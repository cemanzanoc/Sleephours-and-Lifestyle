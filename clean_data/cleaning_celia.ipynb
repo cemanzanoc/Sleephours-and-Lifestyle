{
 "cells": [
  {
   "cell_type": "code",
   "execution_count": 1,
   "metadata": {},
   "outputs": [
    {
     "name": "stdout",
     "output_type": "stream",
     "text": [
      "Updated column in 'mental_health_symptoms_clean.csv':\n",
      "   physical_activity_level\n",
      "0                        5\n",
      "1                        7\n",
      "2                        3\n",
      "3                        5\n",
      "4                        8\n",
      "\n",
      "Updated column in 'sleep_lifestyle_clean.csv':\n",
      "   physical_activity_level\n",
      "0                      4.2\n",
      "1                      6.0\n",
      "2                      6.0\n",
      "3                      3.0\n",
      "4                      3.0\n",
      "\n",
      "Files successfully updated and saved.\n"
     ]
    }
   ],
   "source": [
    "import pandas as pd\n",
    "\n",
    "# Full path to the CSV files\n",
    "file_mental_health = 'mental_health_symptoms_clean.csv'\n",
    "file_sleep_lifestyle = 'sleep_lifestyle_clean.csv'\n",
    "\n",
    "# Read the CSV files\n",
    "df = pd.read_csv(file_mental_health)\n",
    "df1 = pd.read_csv(file_sleep_lifestyle)\n",
    "\n",
    "# Rename the column 'Physical Activity (hrs/week)' to 'physical_activity_level'\n",
    "df = df.rename(columns={'physical_activity_(hrs/week)': 'physical_activity_level'})\n",
    "\n",
    "# Divide the values in the 'physical_activity_level' column by 10 (only if the column exists in df1)\n",
    "if 'physical_activity_level' in df1.columns:\n",
    "    df1['physical_activity_level'] = df1['physical_activity_level'] /10\n",
    "    # Convertir la columna 'Columna1' de float a int\n",
    "    df['physical_activity_level'] = df['physical_activity_level'].astype(int)\n",
    "else:\n",
    "    print(\"Column 'physical_activity_level' not found in sleep_lifestyle_clean.csv.\")\n",
    "\n",
    "# Print the updated columns for verification\n",
    "if 'physical_activity_level' in df.columns:\n",
    "    print(\"Updated column in 'mental_health_symptoms_clean.csv':\")\n",
    "    print(df[['physical_activity_level']].head())\n",
    "else:\n",
    "    print(\"Column 'physical_activity_level' not found in mental_health_symptoms_clean.csv.\")\n",
    "\n",
    "if 'physical_activity_level' in df1.columns:\n",
    "    print(\"\\nUpdated column in 'sleep_lifestyle_clean.csv':\")\n",
    "    print(df1[['physical_activity_level']].head())\n",
    "\n",
    "# Save the updated DataFrames to the same CSV files\n",
    "df.to_csv(file_mental_health, index=False)\n",
    "df1.to_csv(file_sleep_lifestyle, index=False)\n",
    "\n",
    "print(\"\\nFiles successfully updated and saved.\")"
   ]
  }
 ],
 "metadata": {
  "kernelspec": {
   "display_name": "base",
   "language": "python",
   "name": "python3"
  },
  "language_info": {
   "codemirror_mode": {
    "name": "ipython",
    "version": 3
   },
   "file_extension": ".py",
   "mimetype": "text/x-python",
   "name": "python",
   "nbconvert_exporter": "python",
   "pygments_lexer": "ipython3",
   "version": "3.12.4"
  }
 },
 "nbformat": 4,
 "nbformat_minor": 2
}
