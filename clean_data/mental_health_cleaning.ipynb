{
 "cells": [
  {
   "cell_type": "code",
   "execution_count": null,
   "metadata": {},
   "outputs": [
    {
     "data": {
      "text/plain": [
       "Index(['patient_id', 'age', 'gender', 'diagnosis', 'symptom_severity',\n",
       "       'mood_score', 'sleep_quality', 'physical activity_(hrs/week)',\n",
       "       'medication', 'therapy_type', 'treatment_start_date',\n",
       "       'treatment_duration_(weeks)', 'stress_level', 'outcome',\n",
       "       'treatment_progress', 'ai-detected_emotional state',\n",
       "       'adherence_to_treatment_(%)'],\n",
       "      dtype='object')"
      ]
     },
     "execution_count": 15,
     "metadata": {},
     "output_type": "execute_result"
    }
   ],
   "source": [
    "# Código para limpiar el archivo de datos de Salud Mental.\n",
    "\n",
    "import pandas as pd\n",
    "\n",
    "archivo = pd.read_csv('mental_health_diagnosis_treatment_.csv')\n",
    "\n",
    "columnas = ['Patient_ID', 'Age', 'Gender', 'Diagnosis', 'Symptom_Severity',\n",
    "       'Mood_Score', 'Sleep_Quality','Physical Activity_(hrs/week)', 'Medication', 'Therapy_Type',\n",
    "       'Treatment_Start_Date', 'Treatment_Duration_(weeks)',\n",
    "       'Stress_Level', 'Outcome', 'Treatment_Progress',\n",
    "       'AI-Detected_Emotional State', 'Adherence_to_Treatment_(%)']\n",
    "\n",
    "archivo.columns = [x.lower() for x in columnas]\n",
    "\n",
    "archivo.columns"
   ]
  },
  {
   "cell_type": "code",
   "execution_count": 18,
   "metadata": {},
   "outputs": [],
   "source": [
    "datos_salud = archivo[['patient_id', 'age', 'gender', 'diagnosis', 'symptom_severity',\n",
    "       'mood_score', 'sleep_quality', 'physical activity_(hrs/week)', 'stress_level']]\n",
    "datos_salud.set_index('patient_id', inplace=True)\n",
    "\n",
    "datos_tratamiento = archivo[['patient_id', 'age', 'gender', 'diagnosis', 'symptom_severity',\n",
    "                             'medication', 'therapy_type',  'treatment_duration_(weeks)',\n",
    "                             'outcome', 'treatment_progress','adherence_to_treatment_(%)']]\n",
    "\n",
    "datos_tratamiento.set_index('patient_id', inplace=True)\n",
    "\n",
    "datos_salud.to_csv('mental_health_symptoms_clean.csv')\n",
    "datos_tratamiento.to_csv('mental_health_therapy_clean.csv')\n",
    "\n"
   ]
  }
 ],
 "metadata": {
  "kernelspec": {
   "display_name": "Python 3",
   "language": "python",
   "name": "python3"
  },
  "language_info": {
   "codemirror_mode": {
    "name": "ipython",
    "version": 3
   },
   "file_extension": ".py",
   "mimetype": "text/x-python",
   "name": "python",
   "nbconvert_exporter": "python",
   "pygments_lexer": "ipython3",
   "version": "3.9.1"
  }
 },
 "nbformat": 4,
 "nbformat_minor": 2
}
